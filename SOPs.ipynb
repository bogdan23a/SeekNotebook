{
 "cells": [
  {
   "cell_type": "code",
   "execution_count": 1,
   "metadata": {},
   "outputs": [
    {
     "name": "stdout",
     "output_type": "stream",
     "text": [
      "Username: asd\n",
      "Password: ········\n"
     ]
    }
   ],
   "source": [
    "from SeekAPI.Interfaces.Auth.Authentication import Authentication\n",
    "\n",
    "auth = Authentication()"
   ]
  },
  {
   "cell_type": "code",
   "execution_count": 2,
   "metadata": {},
   "outputs": [],
   "source": [
    "from SeekAPI.Classes.SOP import SOP\n",
    "\n",
    "sop = SOP(auth)\n",
    "sop.read('250')"
   ]
  },
  {
   "cell_type": "code",
   "execution_count": 3,
   "metadata": {},
   "outputs": [
    {
     "name": "stdout",
     "output_type": "stream",
     "text": [
      "ISA structure for the Digital Salmon (current version: 1)\n",
      "\n",
      "We have adapted the definitions of terms in [ISA best practice][1] and [programmes and projects][2]:\r\n",
      "\r\n",
      "Programme = Overarching research theme (The Digital Salmon)\r\n",
      "Project = Research grant (DigiSal, GenoSysFat)\r\n",
      "Investigation = a particular biological process, phenomenon or thing\r\n",
      "(typically corresponds to [plans for] one or more closely related papers)\r\n",
      "Study = experiment whose design reflects a specific biological research question\r\n",
      "Assay = standardized measurement or diagnostic experiment using a specific protocol\r\n",
      "(applied to material from a study)\r\n",
      "\r\n",
      "[1] http://docs.seek4science.org/help/isa-best-practice.html#examples\r\n",
      "[2] http://fair-dom.org/2016/01/13/create-programmes-and-projects/\n",
      "Content Blobs:\n",
      "https://fairdomhub.org/sops/250/content_blobs/2410 - 182.902 KB\n",
      "File types\n"
     ]
    }
   ],
   "source": [
    "sop.printAttributes()"
   ]
  },
  {
   "cell_type": "code",
   "execution_count": 4,
   "metadata": {},
   "outputs": [
    {
     "name": "stdout",
     "output_type": "stream",
     "text": [
      "\n",
      "Loading relationships! Please wait...\n",
      "\n",
      "assayscreators..submitter.people..Relationships loaded.\n",
      "\n",
      "Creators: Jon Olav Vik | Natalie Stanford \n",
      "Submitter: Jon Olav Vik \n",
      "People: Natalie Stanford | Jon Olav Vik \n",
      "Projects: 34 | 38 \n",
      "Investigations\n",
      "Studies\n"
     ]
    }
   ],
   "source": [
    "sop.printRelationships()"
   ]
  }
 ],
 "metadata": {
  "kernelspec": {
   "display_name": "Python 3",
   "language": "python",
   "name": "python3"
  },
  "language_info": {
   "codemirror_mode": {
    "name": "ipython",
    "version": 3
   },
   "file_extension": ".py",
   "mimetype": "text/x-python",
   "name": "python",
   "nbconvert_exporter": "python",
   "pygments_lexer": "ipython3",
   "version": "3.7.0"
  }
 },
 "nbformat": 4,
 "nbformat_minor": 2
}
