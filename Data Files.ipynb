{
 "cells": [
  {
   "cell_type": "markdown",
   "metadata": {},
   "source": [
    "### Data Files"
   ]
  },
  {
   "cell_type": "code",
   "execution_count": 2,
   "metadata": {},
   "outputs": [
    {
     "name": "stdout",
     "output_type": "stream",
     "text": [
      "Username: bogdan\n",
      "Password: ········\n"
     ]
    }
   ],
   "source": [
    "from SeekAPI import Authentication\n",
    "\n",
    "auth = Authentication()\n",
    "auth.login()"
   ]
  },
  {
   "cell_type": "code",
   "execution_count": 4,
   "metadata": {},
   "outputs": [],
   "source": [
    "from SeekAPI import File\n",
    "\n",
    "file = File(auth.getUsername(), auth.getPassword())\n",
    "file.read('2')"
   ]
  },
  {
   "cell_type": "code",
   "execution_count": 5,
   "metadata": {},
   "outputs": [
    {
     "name": "stdout",
     "output_type": "stream",
     "text": [
      "Excel sheet template : concentrations of intracellular metabolites (version: 1)\n",
      "\n",
      "Excel sheet template : concentrations of intracellular metabolites\n",
      "Content Blobs:\n",
      "https://fairdomhub.org/data_files/2/content_blobs/66 - 75.776 KB\n"
     ]
    }
   ],
   "source": [
    "file.printAttributes()"
   ]
  },
  {
   "cell_type": "code",
   "execution_count": 6,
   "metadata": {},
   "outputs": [
    {
     "name": "stdout",
     "output_type": "stream",
     "text": [
      "\n",
      "\n",
      "\n",
      "Submitter: Olga Krebs \n",
      "People: Katy Wolstencroft | Olga Krebs \n",
      "Projects: 12 | 19 \n",
      "Investigations: 1 \n",
      "Studies: 1 \n"
     ]
    }
   ],
   "source": [
    "file.printRelationships()"
   ]
  },
  {
   "cell_type": "code",
   "execution_count": 34,
   "metadata": {},
   "outputs": [
    {
     "name": "stdout",
     "output_type": "stream",
     "text": [
      "File metabolites_intracellular.xls has been downloaded\n"
     ]
    }
   ],
   "source": [
    "file.download(file.content_blobs[0]['link'], file.content_blobs[0]['original_filename'])"
   ]
  },
  {
   "cell_type": "code",
   "execution_count": 37,
   "metadata": {},
   "outputs": [
    {
     "data": {
      "text/html": [
       "<div>\n",
       "<style scoped>\n",
       "    .dataframe tbody tr th:only-of-type {\n",
       "        vertical-align: middle;\n",
       "    }\n",
       "\n",
       "    .dataframe tbody tr th {\n",
       "        vertical-align: top;\n",
       "    }\n",
       "\n",
       "    .dataframe thead th {\n",
       "        text-align: right;\n",
       "    }\n",
       "</style>\n",
       "<table border=\"1\" class=\"dataframe\">\n",
       "  <thead>\n",
       "    <tr style=\"text-align: right;\">\n",
       "      <th></th>\n",
       "      <th>Metabolite</th>\n",
       "      <th>pyruvate</th>\n",
       "      <th>Unnamed: 2</th>\n",
       "      <th>Unnamed: 3</th>\n",
       "      <th>succinate</th>\n",
       "      <th>Unnamed: 5</th>\n",
       "      <th>Unnamed: 6</th>\n",
       "      <th>fumarate</th>\n",
       "      <th>Unnamed: 8</th>\n",
       "      <th>Unnamed: 9</th>\n",
       "      <th>...</th>\n",
       "      <th>Unnamed: 50</th>\n",
       "      <th>Unnamed: 51</th>\n",
       "      <th>GTP</th>\n",
       "      <th>Unnamed: 53</th>\n",
       "      <th>Unnamed: 54</th>\n",
       "      <th>Unnamed: 55</th>\n",
       "      <th>IMP</th>\n",
       "      <th>Unnamed: 57</th>\n",
       "      <th>Unnamed: 58</th>\n",
       "      <th>trehalose</th>\n",
       "    </tr>\n",
       "  </thead>\n",
       "  <tbody>\n",
       "    <tr>\n",
       "      <th>0</th>\n",
       "      <td>Comaprtment</td>\n",
       "      <td>NaN</td>\n",
       "      <td>int</td>\n",
       "      <td>NaN</td>\n",
       "      <td>NaN</td>\n",
       "      <td>int</td>\n",
       "      <td>NaN</td>\n",
       "      <td>NaN</td>\n",
       "      <td>int</td>\n",
       "      <td>NaN</td>\n",
       "      <td>...</td>\n",
       "      <td>int</td>\n",
       "      <td>NaN</td>\n",
       "      <td>NaN</td>\n",
       "      <td>int</td>\n",
       "      <td>NaN</td>\n",
       "      <td>NaN</td>\n",
       "      <td>int</td>\n",
       "      <td>NaN</td>\n",
       "      <td>NaN</td>\n",
       "      <td>int</td>\n",
       "    </tr>\n",
       "    <tr>\n",
       "      <th>1</th>\n",
       "      <td>Analytics/method</td>\n",
       "      <td>NaN</td>\n",
       "      <td>GC-MS</td>\n",
       "      <td>NaN</td>\n",
       "      <td>NaN</td>\n",
       "      <td>GC-MS</td>\n",
       "      <td>NaN</td>\n",
       "      <td>NaN</td>\n",
       "      <td>GC-MS</td>\n",
       "      <td>NaN</td>\n",
       "      <td>...</td>\n",
       "      <td>HPLC</td>\n",
       "      <td>NaN</td>\n",
       "      <td>NaN</td>\n",
       "      <td>HPLC</td>\n",
       "      <td>NaN</td>\n",
       "      <td>NaN</td>\n",
       "      <td>HPLC</td>\n",
       "      <td>NaN</td>\n",
       "      <td>NaN</td>\n",
       "      <td>e-assay</td>\n",
       "    </tr>\n",
       "    <tr>\n",
       "      <th>2</th>\n",
       "      <td>SOP</td>\n",
       "      <td>NaN</td>\n",
       "      <td>NaN</td>\n",
       "      <td>NaN</td>\n",
       "      <td>NaN</td>\n",
       "      <td>NaN</td>\n",
       "      <td>NaN</td>\n",
       "      <td>NaN</td>\n",
       "      <td>NaN</td>\n",
       "      <td>NaN</td>\n",
       "      <td>...</td>\n",
       "      <td>NaN</td>\n",
       "      <td>NaN</td>\n",
       "      <td>NaN</td>\n",
       "      <td>NaN</td>\n",
       "      <td>NaN</td>\n",
       "      <td>NaN</td>\n",
       "      <td>NaN</td>\n",
       "      <td>NaN</td>\n",
       "      <td>NaN</td>\n",
       "      <td>NaN</td>\n",
       "    </tr>\n",
       "    <tr>\n",
       "      <th>3</th>\n",
       "      <td>item_measured</td>\n",
       "      <td>time</td>\n",
       "      <td>concentration</td>\n",
       "      <td>NaN</td>\n",
       "      <td>time</td>\n",
       "      <td>concentration</td>\n",
       "      <td>NaN</td>\n",
       "      <td>time</td>\n",
       "      <td>concentration</td>\n",
       "      <td>NaN</td>\n",
       "      <td>...</td>\n",
       "      <td>concentration</td>\n",
       "      <td>NaN</td>\n",
       "      <td>time</td>\n",
       "      <td>concentration</td>\n",
       "      <td>NaN</td>\n",
       "      <td>time</td>\n",
       "      <td>concentration</td>\n",
       "      <td>NaN</td>\n",
       "      <td>time</td>\n",
       "      <td>concentration</td>\n",
       "    </tr>\n",
       "    <tr>\n",
       "      <th>4</th>\n",
       "      <td>Units</td>\n",
       "      <td>min</td>\n",
       "      <td>µmol/gDW</td>\n",
       "      <td>±SD</td>\n",
       "      <td>min</td>\n",
       "      <td>µmol/gDW</td>\n",
       "      <td>±SD</td>\n",
       "      <td>min</td>\n",
       "      <td>µmol/gDW</td>\n",
       "      <td>±SD</td>\n",
       "      <td>...</td>\n",
       "      <td>µmol/gDW</td>\n",
       "      <td>NaN</td>\n",
       "      <td>min</td>\n",
       "      <td>µmol/gDW</td>\n",
       "      <td>NaN</td>\n",
       "      <td>min</td>\n",
       "      <td>µmol/gDW</td>\n",
       "      <td>NaN</td>\n",
       "      <td>min</td>\n",
       "      <td>µmol/gDW</td>\n",
       "    </tr>\n",
       "  </tbody>\n",
       "</table>\n",
       "<p>5 rows × 60 columns</p>\n",
       "</div>"
      ],
      "text/plain": [
       "         Metabolite pyruvate     Unnamed: 2 Unnamed: 3 succinate  \\\n",
       "0       Comaprtment      NaN            int        NaN       NaN   \n",
       "1  Analytics/method      NaN          GC-MS        NaN       NaN   \n",
       "2               SOP      NaN            NaN        NaN       NaN   \n",
       "3     item_measured     time  concentration        NaN      time   \n",
       "4             Units      min       µmol/gDW        ±SD       min   \n",
       "\n",
       "      Unnamed: 5 Unnamed: 6 fumarate     Unnamed: 8 Unnamed: 9      ...        \\\n",
       "0            int        NaN      NaN            int        NaN      ...         \n",
       "1          GC-MS        NaN      NaN          GC-MS        NaN      ...         \n",
       "2            NaN        NaN      NaN            NaN        NaN      ...         \n",
       "3  concentration        NaN     time  concentration        NaN      ...         \n",
       "4       µmol/gDW        ±SD      min       µmol/gDW        ±SD      ...         \n",
       "\n",
       "     Unnamed: 50 Unnamed: 51   GTP    Unnamed: 53 Unnamed: 54 Unnamed: 55  \\\n",
       "0            int         NaN   NaN            int         NaN         NaN   \n",
       "1           HPLC         NaN   NaN           HPLC         NaN         NaN   \n",
       "2            NaN         NaN   NaN            NaN         NaN         NaN   \n",
       "3  concentration         NaN  time  concentration         NaN        time   \n",
       "4       µmol/gDW         NaN   min       µmol/gDW         NaN         min   \n",
       "\n",
       "             IMP Unnamed: 57 Unnamed: 58      trehalose  \n",
       "0            int         NaN         NaN            int  \n",
       "1           HPLC         NaN         NaN        e-assay  \n",
       "2            NaN         NaN         NaN            NaN  \n",
       "3  concentration         NaN        time  concentration  \n",
       "4       µmol/gDW         NaN         min       µmol/gDW  \n",
       "\n",
       "[5 rows x 60 columns]"
      ]
     },
     "execution_count": 37,
     "metadata": {},
     "output_type": "execute_result"
    }
   ],
   "source": [
    "import pandas\n",
    "\n",
    "# pandas.read_excel(file.content_blobs[0]['original_filename'])\n",
    "# file.printAttributes()\n",
    "excel = pandas.ExcelFile(file.content_blobs[0]['original_filename'])\n",
    "\n",
    "# for sheet in excel.sheet_names:\n",
    "#     df = excel.parse(sheet)\n",
    "#     df.head()\n",
    "# excel.sheet_names\n",
    "df = excel.parse('results')\n",
    "df.head()"
   ]
  },
  {
   "cell_type": "code",
   "execution_count": 9,
   "metadata": {},
   "outputs": [],
   "source": []
  },
  {
   "cell_type": "code",
   "execution_count": null,
   "metadata": {},
   "outputs": [],
   "source": []
  }
 ],
 "metadata": {
  "kernelspec": {
   "display_name": "Python 3",
   "language": "python",
   "name": "python3"
  },
  "language_info": {
   "codemirror_mode": {
    "name": "ipython",
    "version": 3
   },
   "file_extension": ".py",
   "mimetype": "text/x-python",
   "name": "python",
   "nbconvert_exporter": "python",
   "pygments_lexer": "ipython3",
   "version": "3.7.0"
  }
 },
 "nbformat": 4,
 "nbformat_minor": 2
}
