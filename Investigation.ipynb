{
 "cells": [
  {
   "cell_type": "code",
   "execution_count": 1,
   "metadata": {},
   "outputs": [
    {
     "name": "stdout",
     "output_type": "stream",
     "text": [
      "Username: asd\n",
      "Password: ········\n"
     ]
    }
   ],
   "source": [
    "from SeekAPI.Interfaces.Auth.Authentication import Authentication\n",
    "\n",
    "auth = Authentication()"
   ]
  },
  {
   "cell_type": "code",
   "execution_count": 2,
   "metadata": {},
   "outputs": [],
   "source": [
    "from SeekAPI.Classes.Investigation import Investigation\n",
    "\n",
    "inv = Investigation(auth)\n",
    "inv.read(\"95\")"
   ]
  },
  {
   "cell_type": "code",
   "execution_count": 3,
   "metadata": {},
   "outputs": [
    {
     "name": "stdout",
     "output_type": "stream",
     "text": [
      "Amino acid degradation in Sulfolobus solfataricus P2\n",
      "Integrated systems biology approach including transcriptome, metabolome, proteome analyses and modelling to elucidate amino acid degradation in S. solfataricus P2.\n"
     ]
    }
   ],
   "source": [
    "inv.printAttributes()"
   ]
  },
  {
   "cell_type": "code",
   "execution_count": null,
   "metadata": {},
   "outputs": [
    {
     "name": "stdout",
     "output_type": "stream",
     "text": [
      "\n",
      "Loading relationships! Please wait...\n",
      "\n",
      "assays....creators........submitterpeople........data_files.................projects.models.sops..studies.publications."
     ]
    }
   ],
   "source": [
    "inv.printRelationships()"
   ]
  }
 ],
 "metadata": {
  "kernelspec": {
   "display_name": "Python 3",
   "language": "python",
   "name": "python3"
  },
  "language_info": {
   "codemirror_mode": {
    "name": "ipython",
    "version": 3
   },
   "file_extension": ".py",
   "mimetype": "text/x-python",
   "name": "python",
   "nbconvert_exporter": "python",
   "pygments_lexer": "ipython3",
   "version": "3.6.5"
  }
 },
 "nbformat": 4,
 "nbformat_minor": 2
}
