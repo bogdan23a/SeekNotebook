{
 "cells": [
  {
   "cell_type": "code",
   "execution_count": 1,
   "metadata": {},
   "outputs": [
    {
     "name": "stdout",
     "output_type": "stream",
     "text": [
      "Username: asd\n",
      "Password: ········\n"
     ]
    }
   ],
   "source": [
    "from SeekAPI.Interfaces.Auth.Authentication import Authentication\n",
    "\n",
    "auth = Authentication()"
   ]
  },
  {
   "cell_type": "code",
   "execution_count": 2,
   "metadata": {},
   "outputs": [],
   "source": [
    "from SeekAPI.Classes.Study import Study\n",
    "\n",
    "st = Study(auth)\n",
    "\n",
    "st.read(\"169\")"
   ]
  },
  {
   "cell_type": "code",
   "execution_count": 3,
   "metadata": {},
   "outputs": [
    {
     "name": "stdout",
     "output_type": "stream",
     "text": [
      "Comparison of Sulfolobus solfataricus P2 grown on caseinhydrolysate and D-glucose\n",
      "To investigate amino acid degradation pathways in Sulfolobus solfataricus transcriptome, proteome and metabolome analyses were performed on cells grown on caseinhydrolysate as carbon source. Cells grown with glucose served as reference condition. Metabolic modelling was used to compare the efficiency of different degradation routes.\n"
     ]
    }
   ],
   "source": [
    "st.printAttributes()"
   ]
  },
  {
   "cell_type": "code",
   "execution_count": 4,
   "metadata": {},
   "outputs": [
    {
     "name": "stdout",
     "output_type": "stream",
     "text": [
      "\n",
      "Loading relationships! Please wait...\n",
      "\n",
      "assays....creators........submitterpeople........data_files.................projects.models.sops..investigaton.Relationships loaded.\n",
      "\n",
      "Creators: Jacqueline Wolf | Helge Stark | Dietmar Schomburg | Trong Khoa Pham | Phil Wright | Bettina Siebers | Theresa Kouril | Stefan Albaum \n",
      "People: Dietmar Schomburg | Bettina Siebers | Phil Wright | Theresa Kouril | Trong Khoa Pham | Stefan Albaum | Helge Stark | Jacqueline Wolf \n",
      "Projects: SulfoSys - Biotec \n",
      "Investigation: Amino acid degradation in Sulfolobus solfataricus P2\n",
      "Data Files: SSO Genome reference | RNA-Seq raw data - Sulfolobus solfataricus P2 - casaminoacids and d-glucose | RNA-Seq mappings - Sulfolobus solfataricus P2 - casaminoacids | RNA-Seq mappings - Sulfolobus solfataricus P2 - d-glucose | Metabolomics Casaminoacids vs Glc | Calculation of amino acid uptake rates | Proteomics_Casaminoacids vs Glucose_Phenyx search output | Proteomics_Casaminoacids vs Glucose_results | Raw MS data Casaminoacids vs glucose  - Main Zip archive | Raw MS data Casaminoacids vs glucose - Supplementary file 1 | Raw MS data Casaminoacids vs Glucose - Supplementary file 2 | Raw MS data Casaminoacids vs Glucose - Supplementary file 3 | Biomass composition of S. solfataricus P2 grown on caseinhydrolysate | Description of changes made to the model compared to the first publication in 2012 | Amino acid depletion profile of S. solfataricus during growth on 1 % casaminoacids | Distribution of enzymes involved in oxidative Stickland reactions among archaea | Integrated summary of transcriptomics and proteomics results \n",
      "Models: Metabolic model of Sulfolobus solfataricus \n",
      "SOPs: SulfoSYS_BIOTECH: RNA isolation and sequencing | SULFOSYSbiotech_Proteome analysis \n",
      "Assays: RNA sequencing: Casaminoacids vs D-glc | Proteome analysis: Casaminoacids versus D-Glc | Metabolome analysis: Casaminoacids versus D-Glc | Metabolic modelling of S. solfataricus during growth on casaminoacids \n",
      "Publications: 339 \n"
     ]
    }
   ],
   "source": [
    "st.printRelationships()"
   ]
  }
 ],
 "metadata": {
  "kernelspec": {
   "display_name": "Python 3",
   "language": "python",
   "name": "python3"
  },
  "language_info": {
   "codemirror_mode": {
    "name": "ipython",
    "version": 3
   },
   "file_extension": ".py",
   "mimetype": "text/x-python",
   "name": "python",
   "nbconvert_exporter": "python",
   "pygments_lexer": "ipython3",
   "version": "3.6.5"
  }
 },
 "nbformat": 4,
 "nbformat_minor": 2
}
