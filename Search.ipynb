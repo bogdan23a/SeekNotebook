{
 "cells": [
  {
   "cell_type": "markdown",
   "metadata": {},
   "source": [
    "### Searching / Browsing"
   ]
  },
  {
   "cell_type": "code",
   "execution_count": 3,
   "metadata": {},
   "outputs": [
    {
     "name": "stdout",
     "output_type": "stream",
     "text": [
      "Username: bogdan\n",
      "Password: ········\n"
     ]
    }
   ],
   "source": [
    "from SeekAPI import Authentication\n",
    "auth = Authentication()\n",
    "auth.login()"
   ]
  },
  {
   "cell_type": "code",
   "execution_count": 4,
   "metadata": {},
   "outputs": [
    {
     "name": "stdout",
     "output_type": "stream",
     "text": [
      "Enter your search: \n",
      "liver\n",
      "Please enter one of: assays, content_blobs, data_files, documents, events, models, organisms, people, presentations, programmes, projects, publications, sample_types, sops, studies, allall\n"
     ]
    }
   ],
   "source": [
    "from SeekAPI import Search\n",
    "\n",
    "\n",
    "search = Search(auth.getUsername(), auth.getPassword())\n",
    "search.read()"
   ]
  },
  {
   "cell_type": "code",
   "execution_count": 5,
   "metadata": {},
   "outputs": [
    {
     "name": "stdout",
     "output_type": "stream",
     "text": [
      "\n",
      "Galactose Modelling\n",
      "cy3sabiork-SupplementaryFile-S2\n",
      "Agenda Data Structuring Course\n",
      "SABIO-RK documentation user interface\n",
      "literature values for allosteric regulation of pyruvate kinase\n",
      "Proteomics Template from PRIDE\n",
      "mRNA decay\n",
      "1st LiSyM Jamboree & SAB Meeting\n",
      "Joint LiSyM & ERASysAPP Data Management PALs Meeting\n",
      "First LiSyM PostDoc and PhD student retreat\n",
      "FAIRDOM-LiSyM-de.NBI Data Structuring Course - Nov 22-23 - Hünfeld (D)\n",
      "LiSyM/de.NBI/ERASysAPP Tutorial: How to Share FAIR — The FAIRDOM Data and Model Management Practice\n",
      "7th Conference on Systems Biology of Mammalian Cells (SBMC 2018)\n",
      "Liverpool John Moores University\n",
      "Leibniz-Institut für Arbeitsforschung (IfADo)\n",
      "Technical University of Munich\n",
      "RWTH Aachen University Hospital - Department of Internal Medicine III\n",
      "University of Freiburg\n",
      "German Cancer Research Center (DKFZ)\n",
      "Humboldt-Universität zu Berlin\n",
      "Charité University Medicine Berlin\n",
      "Heidelberg Institute for Theoretical Studies (HITS gGmbH)\n",
      "MM-PLF: Multiscale modeling for personalized liver function\n",
      "Tools and standards for computational modeling in biology\n",
      "Hepatic galactose model\n",
      "Morpheus: open source modelling and simulation framework for multicellular systems\n",
      "Sven Francque\n",
      "Ahmed Ghallab\n",
      "Madlen Matz-Soja\n",
      "Erik Schröder\n",
      "Max Luedemann\n",
      "Matthias König\n",
      "Ursula Klingmüller\n",
      "Jens Timmer\n",
      "Johannes Bausch\n",
      "Patrick Schrauwen\n",
      "Martin Böhm\n",
      "Janine Koehncke\n",
      "Wolfgang Müller\n",
      "Martin Golebiewski\n",
      "Pablo José Giraudi\n",
      "Jan Boren\n",
      "Anton Wagenmakers\n",
      "RightField presentation for Virtual Liver Network\n",
      "PAL report – Data management LiSyM Multiscale Models for Liver Function Tests\n",
      "FAIRDOM tutorial workshop SBMC2018 Bremen - Introduction\n",
      "Management of data, models, analyses and code for reproducible computational research: Present and Future\n",
      "PAL`s experience - IMOMESIC Project\n",
      "Introduction to FAIRDOMHub\n",
      "The SysMO SEEK - A Tale of Systems Biologists, Sharing and Stealth. Why every platform builder needs PALs\n",
      "New SEEK features (presentation at last PALs meeing in Heidelberg on 27th of August)\n",
      "Sharing data, models and procedures between Systems Biologists: technical and social engineering\n",
      "SysMO-DB - Progress update and future activities\n",
      "If we build it will they come?\n",
      "LiSyM - Systems Medicine of the Liver\n",
      "HUMET\n",
      "Liver Function Diagnostics (LiSyM-LiFuDi - Pillar IV)\n",
      "Chronic Liver Disease Progression (LiSyM-DP - Pillar II)\n",
      "Multi-Scale Models for Personalized Liver Function Tests (LiSyM-MM-PLF)\n",
      "Regeneration and Repair in Acute-on-Chronic Liver Failure (LiSyM-ACLF - Pillar III)\n",
      "Model Guided Pharmacotherapy In Chronic Liver Disease (LiSyM-MGP)\n",
      "IMOMESIC\n",
      "GenoSysFat\n",
      "A Predictive 3D Multi-Scale Model of Biliary Fluid Dynamics in the Liver Lobule.\n",
      "Digitoxin metabolism by rat liver microsomes.\n",
      "Toward community standards and software for whole-cell modeling\n",
      "cy3sabiork: A Cytoscape app for visualizing kinetic data from SABIO-RK\n",
      "Hedgehog signaling is a potent regulator of liver lipid metabolism and reveals a GLI-code associated with steatosis\n",
      "Global transcriptome analysis of Atlantic cod (Gadus morhua) liver after in vivo methylmercury exposure suggests effects on energy metabolism pathways\n",
      "Quantitative proteomics analysis reveals perturbation of lipid metabolic pathways in the liver of Atlantic cod (Gadus morhua) treated with PCB 153\n",
      "Liver transcriptome analysis of Atlantic cod (Gadus morhua) exposed to PCB 153 indicates effects on cell cycle regulation and lipid metabolism\n",
      "Recruitment and activation of a lipid kinase by hepatitis C virus NS5A is essential for integrity of the membranous replication compartment\n",
      "A mathematical modelling approach to assessing the reliability of biomarkers of glutathione metabolism\n",
      "Life-stage associated remodeling of lipid metabolism regulation in Atlantic salmon.\n",
      "Quantitative analyses of the hepatic proteome of methylmercury-exposed Atlantic cod (Gadus morhua) suggest oxidative stress-mediated effects on cellular energy metabolism\n",
      "Model of tryptophan metabolism, readily scalable using tissue-specific gene expression data.\n",
      "Identification of HNRNPK as regulator of hepatitis C virus particle production\n",
      "Context-specific flow through the MEK/ERK module produces cell- and ligand-specific patterns of ERK single and double phosphorylation\n",
      "Disentangling the Complexity of HGF Signaling by Combining Qualitative and Quantitative Modeling\n",
      "Samples for dCod\n",
      "A Multiscale Computational Model of Human Galactose Metabolism\n",
      "Human Caffeine Metabolism\n",
      "\n"
     ]
    }
   ],
   "source": [
    "search.printResults()"
   ]
  },
  {
   "cell_type": "code",
   "execution_count": 6,
   "metadata": {},
   "outputs": [
    {
     "name": "stdout",
     "output_type": "stream",
     "text": [
      "Galactose Modelling ( Modelling Analysis) Model Analysis Type\n",
      "\n",
      "\n",
      "\n",
      "Submitter: Matthias König \n",
      "People: Matthias König \n",
      "Projects: 46 \n",
      "Investigation: 96\n",
      "Study: 170\n",
      "Models: 226 \n"
     ]
    }
   ],
   "source": [
    "from SeekAPI import Assay\n",
    "\n",
    "assay = Assay(auth.getUsername(), auth.getPassword())\n",
    "\n",
    "assay.read(search.getID('Galactose Modelling'))\n",
    "\n",
    "assay.printAttributes()\n",
    "assay.printRelationships()"
   ]
  },
  {
   "cell_type": "code",
   "execution_count": 7,
   "metadata": {},
   "outputs": [
    {
     "data": {
      "text/plain": [
       "{'data': {'id': '405',\n",
       "  'type': 'assays',\n",
       "  'attributes': {'title': 'Galactose Modelling',\n",
       "   'description': None,\n",
       "   'other_creators': None,\n",
       "   'assay_class': {'title': 'Modelling Analysis',\n",
       "    'key': 'MODEL',\n",
       "    'description': None},\n",
       "   'assay_type': {'label': 'Model Analysis Type',\n",
       "    'uri': 'http://jermontology.org/ontology/JERMOntology#Model_analysis_type'},\n",
       "   'technology_type': {'label': None, 'uri': None},\n",
       "   'tags': None},\n",
       "  'relationships': {'creators': {'data': [{'id': '678', 'type': 'people'}]},\n",
       "   'submitter': {'data': [{'id': '678', 'type': 'people'}]},\n",
       "   'organisms': {'data': []},\n",
       "   'people': {'data': [{'id': '678', 'type': 'people'}]},\n",
       "   'projects': {'data': [{'id': '46', 'type': 'projects'}]},\n",
       "   'investigation': {'data': {'id': '96', 'type': 'investigations'}},\n",
       "   'study': {'data': {'id': '170', 'type': 'studies'}},\n",
       "   'data_files': {'data': []},\n",
       "   'models': {'data': [{'id': '226', 'type': 'models'}]},\n",
       "   'sops': {'data': []},\n",
       "   'publications': {'data': []},\n",
       "   'documents': {'data': []}},\n",
       "  'links': {'self': '/assays/405'},\n",
       "  'meta': {'created': '2016-08-16T14:19:01.000Z',\n",
       "   'modified': '2017-11-08T14:21:03.000Z',\n",
       "   'api_version': '0.1',\n",
       "   'uuid': '4d3abb10-45ea-0134-2b0d-549f350973c0',\n",
       "   'base_url': 'https://fairdomhub.org'}},\n",
       " 'jsonapi': {'version': '1.0'}}"
      ]
     },
     "execution_count": 7,
     "metadata": {},
     "output_type": "execute_result"
    }
   ],
   "source": [
    "assay.json"
   ]
  },
  {
   "cell_type": "code",
   "execution_count": null,
   "metadata": {},
   "outputs": [],
   "source": []
  }
 ],
 "metadata": {
  "kernelspec": {
   "display_name": "Python 3",
   "language": "python",
   "name": "python3"
  },
  "language_info": {
   "codemirror_mode": {
    "name": "ipython",
    "version": 3
   },
   "file_extension": ".py",
   "mimetype": "text/x-python",
   "name": "python",
   "nbconvert_exporter": "python",
   "pygments_lexer": "ipython3",
   "version": "3.6.5"
  }
 },
 "nbformat": 4,
 "nbformat_minor": 2
}
