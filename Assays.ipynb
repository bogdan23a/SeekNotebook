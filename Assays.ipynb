{
 "cells": [
  {
   "cell_type": "markdown",
   "metadata": {},
   "source": [
    "# Structuring API calls"
   ]
  },
  {
   "cell_type": "markdown",
   "metadata": {},
   "source": [
    "## Assays (inherits from ReadInterface, ListInterface):\n",
    "***"
   ]
  },
  {
   "cell_type": "markdown",
   "metadata": {},
   "source": [
    "1. <font color=green>Instantiation</font> @Override\n",
    "    -  username and password as arguments\n",
    "    \n",
    "2. <font color=green>Read</font> (chooses which method to call from interfaces based on arguments)\n",
    "    -  calls API GET request and receives JSON \n",
    "    -  ID of searched assay as argument or nothing if listing\n",
    "3. <font color=gray>Parsing JSON</font> (done automatically at reading request)\n",
    "    -  parseJSON() @Override\n",
    "        -  parseAttributes()\n",
    "        -  parseRelationships()\n",
    "4. <font color=green>Printing</font> \n",
    "    -  .printAttributes() | .printRelationships() \n",
    "    or\n",
    "    -  .description | .assayClass | .assayType | .technology | .creators | .submitter | .organisms | .people | .projects | .investigation | .study | .data_files | .models | .sops | .publications | .documents can be accessed as well\n",
    "    -  .<font color=red>printRelationships()</font> means <font color=red>readRelationships()</font> invoked automatically; if not, the latter <font color=\"red\">must be invoked</font> in order to get relationships"
   ]
  },
  {
   "cell_type": "code",
   "execution_count": 1,
   "metadata": {},
   "outputs": [
    {
     "name": "stdout",
     "output_type": "stream",
     "text": [
      "Username: bogdan\n",
      "Password: ········\n"
     ]
    }
   ],
   "source": [
    "from SeekAPI import Authentication\n",
    "\n",
    "auth = Authentication()\n",
    "auth.login()"
   ]
  },
  {
   "cell_type": "code",
   "execution_count": 2,
   "metadata": {
    "scrolled": false
   },
   "outputs": [
    {
     "name": "stdout",
     "output_type": "stream",
     "text": [
      "Metabolome analysis: Casaminoacids versus D-Glc ( Experimental Assay) Metabolite Profiling, Gas Chromatography Mass Spectrometry\n",
      "\n",
      "Intracellular and extracellular metabolome analysis\n",
      "\n",
      "\n",
      "\n",
      "Submitter: Jacqueline Wolf \n",
      "Organisms: 551884369 \n",
      "People: Dietmar Schomburg | Helge Stark | Jacqueline Wolf \n",
      "Projects: 16 \n",
      "Investigation: 95\n",
      "Study: 169\n",
      "Data Files: Metabolomics Casaminoacids vs Glc | Calculation of amino acid uptake rates | Amino acid depletion profile of S. solfataricus during growth on 1 % casaminoacids | Integrated summary of transcriptomics and proteomics results \n"
     ]
    }
   ],
   "source": [
    "from SeekAPI import Assay\n",
    "\n",
    "\n",
    "assay = Assay(auth.getUsername(), auth.getPassword())\n",
    "\n",
    "assay.read(\"403\")\n",
    "\n",
    "assay.printAttributes()\n",
    "assay.printRelationships()"
   ]
  },
  {
   "cell_type": "code",
   "execution_count": 3,
   "metadata": {},
   "outputs": [
    {
     "name": "stdout",
     "output_type": "stream",
     "text": [
      "Metabolomics Casaminoacids vs Glc (version: 1)\n",
      "\n",
      "Intracellular metabolome analysis of S. solfataricus P2 grown on caseinhydrolysate or D-glucose as sole carbon source.\n",
      "Samples were analyzed with GC-MS. CoA derivatives were analyzed with LC-MS.\n",
      "Content Blobs:\n",
      "https://fairdomhub.org/data_files/1460/content_blobs/2770 - 30.334 KB\n",
      "RELATIONSHIPS:\n",
      "\n",
      "\n",
      "\n",
      "Submitter: Jacqueline Wolf \n",
      "People: Dietmar Schomburg | Jacqueline Wolf \n",
      "Projects: 16 \n",
      "Investigations: 95 \n",
      "Studies: 169 \n",
      "\n",
      "__________________________________________________________________________________________________\n",
      "Calculation of amino acid uptake rates (version: 3)\n",
      "\n",
      "The calculation of amino acid uptake rates for cells of Sulfolobus solfataricus P2 grown on caseinhydrolysate was performed based on the relative consumption of individual amino acids from the growth medium and the previously published absolute concentration of amino acids in the used growth medium.\n",
      "Content Blobs:\n",
      "https://fairdomhub.org/data_files/1463/content_blobs/2837 - 44.1 KB\n",
      "RELATIONSHIPS:\n",
      "\n",
      "\n",
      "\n",
      "Submitter: Helge Stark \n",
      "People: Helge Stark \n",
      "Projects: 16 \n",
      "Investigations: 95 \n",
      "Studies: 169 \n",
      "\n",
      "__________________________________________________________________________________________________\n",
      "Amino acid depletion profile of S. solfataricus during growth on 1 % casaminoacids (version: 1)\n",
      "\n",
      "Sulfolobus solfataricus P2 was cultivated on 1 % Caseinhydrolysate. Samples of the culture supernatants were taken at regular intervalls and analyzed by GC-MS. To evaluate the stability of amino acids under cultivation conditions an additional non-inoculated control culture was also analyzed.\n",
      "Content Blobs:\n",
      "https://fairdomhub.org/data_files/1589/content_blobs/2963 - 26.893 KB\n",
      "RELATIONSHIPS:\n",
      "\n",
      "\n",
      "\n",
      "Submitter: Jacqueline Wolf \n",
      "People: Dietmar Schomburg | Jacqueline Wolf \n",
      "Projects: 16 \n",
      "Investigations: 95 \n",
      "Studies: 169 \n",
      "\n",
      "__________________________________________________________________________________________________\n",
      "Integrated summary of transcriptomics and proteomics results (version: 1)\n",
      "\n",
      "Cells of S. solfataricus were grown on either caseinhydrolysate or D-glucose (reference) as sole carbon source.\n",
      "Content Blobs:\n",
      "https://fairdomhub.org/data_files/1646/content_blobs/3090 - 890.88 KB\n",
      "RELATIONSHIPS:\n",
      "\n",
      "\n",
      "\n",
      "Submitter: Helge Stark \n",
      "People: Helge Stark \n",
      "Projects: 16 \n",
      "Investigations: 95 \n",
      "Studies: 169 \n",
      "\n",
      "__________________________________________________________________________________________________\n"
     ]
    }
   ],
   "source": [
    "for file in assay.data_files:\n",
    "    \n",
    "    file.printAttributes()\n",
    "    print(\"RELATIONSHIPS:\")\n",
    "    file.printRelationships()\n",
    "    print(\"\\n__________________________________________________________________________________________________\")"
   ]
  },
  {
   "cell_type": "code",
   "execution_count": null,
   "metadata": {},
   "outputs": [],
   "source": []
  }
 ],
 "metadata": {
  "kernelspec": {
   "display_name": "Python 3",
   "language": "python",
   "name": "python3"
  },
  "language_info": {
   "codemirror_mode": {
    "name": "ipython",
    "version": 3
   },
   "file_extension": ".py",
   "mimetype": "text/x-python",
   "name": "python",
   "nbconvert_exporter": "python",
   "pygments_lexer": "ipython3",
   "version": "3.6.5"
  }
 },
 "nbformat": 4,
 "nbformat_minor": 2
}
