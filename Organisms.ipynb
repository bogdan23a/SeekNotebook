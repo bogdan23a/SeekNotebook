{
 "cells": [
  {
   "cell_type": "code",
   "execution_count": 1,
   "metadata": {},
   "outputs": [
    {
     "name": "stdout",
     "output_type": "stream",
     "text": [
      "Username: asd\n",
      "Password: ········\n"
     ]
    }
   ],
   "source": [
    "from SeekAPI.Interfaces.Auth.Authentication import Authentication\n",
    "\n",
    "auth = Authentication()"
   ]
  },
  {
   "cell_type": "code",
   "execution_count": 2,
   "metadata": {},
   "outputs": [],
   "source": [
    "from SeekAPI.Classes.Organism import Organism\n",
    "\n",
    "org = Organism(auth)\n",
    "\n",
    "org.read('551884369')"
   ]
  },
  {
   "cell_type": "code",
   "execution_count": 3,
   "metadata": {},
   "outputs": [
    {
     "name": "stdout",
     "output_type": "stream",
     "text": [
      "Sulfolobus solfataricus ( http://purl.obolibrary.org/obo/NCBITaxon_2287)\n"
     ]
    }
   ],
   "source": [
    "org.printAttributes()"
   ]
  },
  {
   "cell_type": "code",
   "execution_count": 4,
   "metadata": {},
   "outputs": [
    {
     "name": "stdout",
     "output_type": "stream",
     "text": [
      "\n",
      "Loading relationships! Please wait...\n",
      "\n",
      "assays...........................projects..models............Relationships loaded.\n",
      "\n",
      "\n",
      "Projects: SulfoSys | SulfoSys - Biotec \n",
      "Models: Model for ED pathway in Sulfolobus solfataricus | PGK Kinetic Model | Model of reconstituted gluconeogenesis system in S. solfataricus | FBPAase Kinetic Model | GAPDH Kinetic Model | TPI Kinetic Model | Kinetic Model of Temperature Degradation of Gluconeogenic Intermediates | Metabolic model of Sulfolobus solfataricus | Metabolic model of Sulfolobus solfataricus | PGK 70C model Fig. 3 | PGK 70C SBML | PGK-GAPDH model Sulfolobus kouril8 \n",
      "Assays: Comparison of transcriptome of S. solfataricus at 70 and 80C | Comparison of proteome of S. solfataricus at 70 and 80C | Fermentation of S. solfataricus at 70 and 80C in a batch fermenter | Enzyme activity tests for S. solfataricus | Intracellular metabolomics of S. solfataricus at 70 and 80C | PGK | PGK Modelling | GAPDH | Reconstituted Gluconeogenesis System | Model Validation Gluconeogenesis in S. solfataricus | GAPDH Modelling | TPI | TPI Modelling | FBPAase | FBPAase Modelling | Temperature Degradation of Gluconeogenic Intermediates | Modelling Metabolite Degradation at High Temperature | Experimental Validation Gluconeogenesis in S. solfataricus | RNA sequencing:l-fuc/d-glu | intracellular metabolome analysis: l-fucose vs d-glucose | Proteome analysis: d-fuc / l-glu | Cell free extract activity measurements: L-fuc/d-glc | Metabolic model of Sulfolobus solfataricus | RNA sequencing: Casaminoacids vs D-glc | Proteome analysis: Casaminoacids versus D-Glc | Metabolome analysis: Casaminoacids versus D-Glc | Metabolic modelling of S. solfataricus during growth on casaminoacids \n"
     ]
    }
   ],
   "source": [
    "org.printRelationships()"
   ]
  }
 ],
 "metadata": {
  "kernelspec": {
   "display_name": "Python 3",
   "language": "python",
   "name": "python3"
  },
  "language_info": {
   "codemirror_mode": {
    "name": "ipython",
    "version": 3
   },
   "file_extension": ".py",
   "mimetype": "text/x-python",
   "name": "python",
   "nbconvert_exporter": "python",
   "pygments_lexer": "ipython3",
   "version": "3.6.5"
  }
 },
 "nbformat": 4,
 "nbformat_minor": 2
}
