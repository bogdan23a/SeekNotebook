{
 "cells": [
  {
   "cell_type": "code",
   "execution_count": 1,
   "metadata": {},
   "outputs": [
    {
     "name": "stdout",
     "output_type": "stream",
     "text": [
      "Username: asd\n",
      "Password: ········\n"
     ]
    }
   ],
   "source": [
    "from SeekAPI.Interfaces.Auth.Authentication import Authentication\n",
    "\n",
    "auth = Authentication()"
   ]
  },
  {
   "cell_type": "code",
   "execution_count": 2,
   "metadata": {},
   "outputs": [],
   "source": [
    "from SeekAPI.Classes.Project import Project\n",
    "\n",
    "prj = Project(auth)\n",
    "prj.read(\"16\")"
   ]
  },
  {
   "cell_type": "code",
   "execution_count": 3,
   "metadata": {},
   "outputs": [
    {
     "name": "stdout",
     "output_type": "stream",
     "text": [
      "SulfoSys - Biotec ( )\n",
      "Within the e:Bio - Innovationswettbewerb Systembiologie (Federal Ministry of Education and Research (BMBF)), the SulfoSYSBIOTECH consortium (10 partners), aim to unravel the complexity and regulation of the carbon metabolic network of the thermoacidophilic archaeon Sulfolobus solfataricus (optimal growth at 80°C and pH 3) in order to provide new catalysts ‘extremozymes’ for utilization in White Biotechnology.\r\n",
      "\r\n",
      "Based on the available S. solfataricus genome scale metabolic model (Ulas et al., 2012) the project will iteratively combine state of the art high throughput approaches (genomics, transcriptomics, proteomics, metabolomics), bioinformatics, modelling, data management and classical microbiology, biochemistry as well as genetic/ molecular biology techniques. The growth of S. solfataricus on ‘alternative’ carbon sources (e.g. polymers, pentoses, sugar acids, aldehydes) will be analysed to elucidate the respective degradation pathways and to identify the involved enzymes; using this functional systems biology approach we expect to identify new enzymes of industrial interest. In collaboration with the industrial project partners target enzymes will be selected and screened for their potential for application (e.g. production efficiency). The initial focus will be on enzymes involved in the production of stereospecific base and fine chemicals and biomass conversion. The increasing knowledge of archaeal metabolic networks with respect to cellular blueprints, their complexity and regulation will be a major resource for a continuous stream of new applications.\r\n",
      "\n"
     ]
    }
   ],
   "source": [
    "prj.printAttributes()"
   ]
  },
  {
   "cell_type": "code",
   "execution_count": 4,
   "metadata": {},
   "outputs": [
    {
     "name": "stdout",
     "output_type": "stream",
     "text": [
      "\n",
      "Loading relationships! Please wait...\n",
      "\n",
      "assays...................people.....................data_files........................organisms.models..........sops..investigatons...studies......Relationships loaded.\n",
      "\n",
      "\n",
      "Organisms: Sulfolobus solfataricus \n",
      "People: Jacky Snoep | Dietmar Schomburg | Hans Westerhoff | Bettina Siebers | Phil Wright | Sonja-Verena Albers | Kerstin Schreiber | Theresa Kouril | Trong Khoa Pham | Stefan Albaum | Katharina Kruse | Helge Stark | Ida Schomburg | Jacqueline Wolf | Jörg Schaber | Roland Wohlgemuth | Tobias Jakobi | Antje Chang | Claus-Rüdiger Wallis | Andreas Albersmeier | Sofia Figueiredo \n",
      "Investigations: L-fucose degradation in Sulfolobus solfataricus P2 | Amino acid degradation in Sulfolobus solfataricus P2 | Phosphoglycerate kinase acts as a futile cycle at high temperature \n",
      "Studies: Comparison of S. solfataricus grown on l-fucose and d-glucose | Comparison of Sulfolobus solfataricus P2 grown on caseinhydrolysate and D-glucose | PGK-30C | PGK-70C | BPG stability | PGK-GAPDH 30C & 70C \n",
      "Data Files: Transcriptomics L-fuc vs D-glc | Activity assay L-fuc vs D-glc | Metabolomics L-fuc vs D-glc | Proteomics L-fuc vs D-glc | SSO Genome reference | RNA-Seq raw data - Sulfolobus solfataricus P2 - casaminoacids and d-glucose | RNA-Seq mappings - Sulfolobus solfataricus P2 - casaminoacids | RNA-Seq mappings - Sulfolobus solfataricus P2 - d-glucose | Metabolomics Casaminoacids vs Glc | Calculation of amino acid uptake rates | Proteomics_Casaminoacids vs Glucose_Phenyx search output | Proteomics_Casaminoacids vs Glucose_results | Raw MS data Casaminoacids vs glucose  - Main Zip archive | Raw MS data Casaminoacids vs glucose - Supplementary file 1 | Raw MS data Casaminoacids vs Glucose - Supplementary file 2 | Raw MS data Casaminoacids vs Glucose - Supplementary file 3 | Biomass composition of S. solfataricus P2 grown on caseinhydrolysate | Description of changes made to the model compared to the first publication in 2012 | Amino acid depletion profile of S. solfataricus during growth on 1 % casaminoacids | Distribution of enzymes involved in oxidative Stickland reactions among archaea | non-enzymatic phosphoenolpyruvate (PEP) degradation at 70°C and 80°C | Integrated summary of transcriptomics and proteomics results | PGK yeast with recycling of ATP | PGK yeast without recycling of ATP \n",
      "Models: Metabolic model of Sulfolobus solfataricus | Metabolic model of Sulfolobus solfataricus | PGK yeast with/without recycling | PGK yeast Fig1a | BPG stability notebook | PGK 70C model Fig. 3 | PGK 70C SBML | PGK-GAPDH models yeast and Sulfolobus Fig. 4 | PGK-GAPDH model yeast kouril7 | PGK-GAPDH model Sulfolobus kouril8 \n",
      "SOPs: SulfoSYS_BIOTECH: RNA isolation and sequencing | SULFOSYSbiotech_Proteome analysis \n",
      "Assays: RNA sequencing:l-fuc/d-glu | intracellular metabolome analysis: l-fucose vs d-glucose | Proteome analysis: d-fuc / l-glu | Cell free extract activity measurements: L-fuc/d-glc | Metabolic model of Sulfolobus solfataricus | RNA sequencing: Casaminoacids vs D-glc | Proteome analysis: Casaminoacids versus D-Glc | Metabolome analysis: Casaminoacids versus D-Glc | Metabolic modelling of S. solfataricus during growth on casaminoacids | non-enzymatic phosphoenolpyruvate (PEP) degradation at high temperature | PGK 30C data | PGK 30C model | PGK 70 data | BPG degradation | PGK-GAPDH 30 | PGK-GAPDH 70 | BPG stability analysis | PGK 70C model | PGK - GAPDH models \n",
      "Publications: 285 | 339 | 343 \n"
     ]
    }
   ],
   "source": [
    "prj.printRelationships()\n"
   ]
  }
 ],
 "metadata": {
  "kernelspec": {
   "display_name": "Python 3",
   "language": "python",
   "name": "python3"
  },
  "language_info": {
   "codemirror_mode": {
    "name": "ipython",
    "version": 3
   },
   "file_extension": ".py",
   "mimetype": "text/x-python",
   "name": "python",
   "nbconvert_exporter": "python",
   "pygments_lexer": "ipython3",
   "version": "3.6.5"
  }
 },
 "nbformat": 4,
 "nbformat_minor": 2
}
