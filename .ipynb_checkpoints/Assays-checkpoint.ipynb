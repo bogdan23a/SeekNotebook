{
 "cells": [
  {
   "cell_type": "markdown",
   "metadata": {},
   "source": [
    "# Structuring API calls"
   ]
  },
  {
   "cell_type": "markdown",
   "metadata": {},
   "source": [
    "## Assays (inherits from ReadInterface, ListInterface):\n",
    "***"
   ]
  },
  {
   "cell_type": "markdown",
   "metadata": {},
   "source": [
    "1. <font color=green>Instantiation</font> @Override\n",
    "    -  username and password as arguments\n",
    "    \n",
    "2. <font color=green>Read</font> (chooses which method to call from interfaces based on arguments)\n",
    "    -  calls API GET request and receives JSON \n",
    "    -  ID of searched assay as argument or nothing if listing\n",
    "3. <font color=gray>Parsing JSON</font> (done automatically at reading request)\n",
    "    -  parseJSON() @Override\n",
    "        -  parseAttributes()\n",
    "        -  parseRelationships()\n",
    "4. <font color=green>Printing</font> \n",
    "    -  .printAttributes() | .printRelationships() \n",
    "    or\n",
    "    -  .description | .assayClass | .assayType | .technology | .creators | .submitter | .organisms | .people | .projects | .investigation | .study | .data_files | .models | .sops | .publications | .documents can be accessed as well\n",
    "    -  .<font color=red>printRelationships()</font> means <font color=red>readRelationships()</font> invoked automatically; if not, the latter <font color=\"red\">must be invoked</font> in order to get relationships"
   ]
  },
  {
   "cell_type": "code",
   "execution_count": 1,
   "metadata": {},
   "outputs": [
    {
     "name": "stdout",
     "output_type": "stream",
     "text": [
      "Username: bogdan.gherasim\n",
      "Password: ········\n"
     ]
    }
   ],
   "source": [
    "from SeekAPI.Interfaces.Auth.Authentication import Authentication\n",
    "\n",
    "auth = Authentication()"
   ]
  },
  {
   "cell_type": "code",
   "execution_count": 2,
   "metadata": {
    "scrolled": false
   },
   "outputs": [
    {
     "name": "stdout",
     "output_type": "stream",
     "text": [
      "Metabolome analysis: Casaminoacids versus D-Glc ( Experimental Assay) Metabolite Profiling, Gas Chromatography Mass Spectrometry\n",
      "\n",
      "Intracellular and extracellular metabolome analysis\n",
      "\n",
      "Loading relationships! Please wait...\n",
      "\n",
      "creators...submitter.people...data_files....Relationships loaded.\n",
      "\n",
      "Creators: Jacqueline Wolf | Dietmar Schomburg | Helge Stark \n",
      "Submitter: Jacqueline Wolf \n",
      "Organisms: 551884369 \n",
      "People: Dietmar Schomburg | Helge Stark | Jacqueline Wolf \n",
      "Projects: 16 \n",
      "Investigation: 95\n",
      "Study: 169\n",
      "Data Files: Metabolomics Casaminoacids vs Glc | Calculation of amino acid uptake rates | Amino acid depletion profile of S. solfataricus during growth on 1 % casaminoacids | Integrated summary of transcriptomics and proteomics results \n"
     ]
    }
   ],
   "source": [
    "from SeekAPI.Classes.Assay import Assay\n",
    "\n",
    "\n",
    "assay = Assay(auth)\n",
    "\n",
    "assay.read(\"403\")\n",
    "\n",
    "assay.printAttributes()\n",
    "assay.printRelationships()"
   ]
  },
  {
   "cell_type": "code",
   "execution_count": null,
   "metadata": {},
   "outputs": [],
   "source": [
    "for file in assay.data_files:\n",
    "    \n",
    "    file.printAttributes()\n",
    "    file.printRelationships()\n",
    "    print(\"\\n__________________________________________________________________________________________________\")"
   ]
  },
  {
   "cell_type": "code",
   "execution_count": null,
   "metadata": {},
   "outputs": [],
   "source": []
  }
 ],
 "metadata": {
  "kernelspec": {
   "display_name": "Python 3",
   "language": "python",
   "name": "python3"
  },
  "language_info": {
   "codemirror_mode": {
    "name": "ipython",
    "version": 3
   },
   "file_extension": ".py",
   "mimetype": "text/x-python",
   "name": "python",
   "nbconvert_exporter": "python",
   "pygments_lexer": "ipython3",
   "version": "3.7.0"
  }
 },
 "nbformat": 4,
 "nbformat_minor": 2
}
