{
 "cells": [
  {
   "cell_type": "markdown",
   "metadata": {},
   "source": [
    "## Authentication"
   ]
  },
  {
   "cell_type": "code",
   "execution_count": 1,
   "metadata": {},
   "outputs": [
    {
     "name": "stdout",
     "output_type": "stream",
     "text": [
      "Username: bogdan\n",
      "Password: ········\n"
     ]
    }
   ],
   "source": [
    "from SeekAPI import Authentication\n",
    "\n",
    "auth = Authentication()\n",
    "auth.login()"
   ]
  },
  {
   "cell_type": "code",
   "execution_count": 3,
   "metadata": {},
   "outputs": [
    {
     "name": "stdout",
     "output_type": "stream",
     "text": [
      "Metabolic modelling of S. solfataricus during growth on casaminoacids ( Modelling Analysis) Genome Scale\n",
      "\n",
      "Growth on D-glucose served as reference scenario\n",
      "\n",
      "\n",
      "\n",
      "Submitter: Jacqueline Wolf \n",
      "Organisms: 551884369 \n",
      "People: Dietmar Schomburg | Helge Stark | Jacqueline Wolf \n",
      "Projects: 16 \n",
      "Investigation: 95\n",
      "Study: 169\n",
      "Data Files: Calculation of amino acid uptake rates | Biomass composition of S. solfataricus P2 grown on caseinhydrolysate | Description of changes made to the model compared to the first publication in 2012 | Distribution of enzymes involved in oxidative Stickland reactions among archaea \n",
      "Models: 231 \n"
     ]
    }
   ],
   "source": [
    "from SeekAPI import Assay\n",
    "\n",
    "obj = Assay(auth.getUsername(), auth.getPassword())\n",
    "obj.read(\"404\")\n",
    "obj.printAttributes()\n",
    "obj.printRelationships()\n",
    "\n"
   ]
  },
  {
   "cell_type": "code",
   "execution_count": null,
   "metadata": {},
   "outputs": [],
   "source": []
  }
 ],
 "metadata": {
  "kernelspec": {
   "display_name": "Python 3",
   "language": "python",
   "name": "python3"
  },
  "language_info": {
   "codemirror_mode": {
    "name": "ipython",
    "version": 3
   },
   "file_extension": ".py",
   "mimetype": "text/x-python",
   "name": "python",
   "nbconvert_exporter": "python",
   "pygments_lexer": "ipython3",
   "version": "3.6.5"
  }
 },
 "nbformat": 4,
 "nbformat_minor": 2
}
