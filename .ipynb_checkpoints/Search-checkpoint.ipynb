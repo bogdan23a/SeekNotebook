{
 "cells": [
  {
   "cell_type": "markdown",
   "metadata": {},
   "source": [
    "### Searching / Browsing"
   ]
  },
  {
   "cell_type": "code",
   "execution_count": 1,
   "metadata": {},
   "outputs": [
    {
     "name": "stdout",
     "output_type": "stream",
     "text": [
      "Username: bogdan\n",
      "Password: ········\n"
     ]
    }
   ],
   "source": [
    "from SeekAPI.Interfaces.Auth.Authentication import Authentication\n",
    "\n",
    "auth = Authentication()"
   ]
  },
  {
   "cell_type": "code",
   "execution_count": 2,
   "metadata": {},
   "outputs": [
    {
     "name": "stdout",
     "output_type": "stream",
     "text": [
      "Enter your search: \n",
      "liver\n",
      "Please enter one of: assays, data_files, events, institutions, investigations, models, organisms, people, presentations, programmes, projects, publications, sample_types, sops, studies, allall\n",
      "\n",
      "Loading relationships! Please wait...\n",
      "\n",
      "assays.people.................data files......\n",
      "\n",
      "Relationships loaded!\n",
      "\n"
     ]
    }
   ],
   "source": [
    "from SeekAPI.Search.Search import Search\n",
    "\n",
    "\n",
    "search = Search(auth)\n",
    "search.read()"
   ]
  },
  {
   "cell_type": "code",
   "execution_count": 3,
   "metadata": {},
   "outputs": [
    {
     "name": "stdout",
     "output_type": "stream",
     "text": [
      "\n",
      "ASSAYS\n",
      "\n",
      "Galactose Modelling\n",
      "\n",
      "PEOPLE\n",
      "\n",
      "Sven Francque\n",
      "\n",
      "Ahmed Ghallab\n",
      "\n",
      "Madlen Matz-Soja\n",
      "\n",
      "Erik Schröder\n",
      "\n",
      "Matthias König\n",
      "\n",
      "Max Luedemann\n",
      "\n",
      "Ursula Klingmüller\n",
      "\n",
      "Jens Timmer\n",
      "\n",
      "Johannes Bausch\n",
      "\n",
      "Patrick Schrauwen\n",
      "\n",
      "Martin Böhm\n",
      "\n",
      "Janine Koehncke\n",
      "\n",
      "Martin Golebiewski\n",
      "\n",
      "Wolfgang Müller\n",
      "\n",
      "Pablo José Giraudi\n",
      "\n",
      "Jan Boren\n",
      "\n",
      "Anton Wagenmakers\n",
      "\n",
      "DATA FILES\n",
      "\n",
      "cy3sabiork-SupplementaryFile-S2 (version: 1)\n",
      "\tContent Blobs:506.891 KB  \n",
      "\tFile types:xml \n",
      "\n",
      "Agenda Data Structuring Course (version: 1)\n",
      "\tContent Blobs:397.712 KB  \n",
      "\tFile types:pdf \n",
      "\n",
      "SABIO-RK documentation user interface (version: 1)\n",
      "\tContent Blobs:691.732 KB  \n",
      "\tFile types:pdf \n",
      "\n",
      "literature values for allosteric regulation of pyruvate kinase (version: 1)\n",
      "\tContent Blobs:129.094 KB  \n",
      "\tFile types:xlsx \n",
      "\n",
      "Proteomics Template from PRIDE (version: 1)\n",
      "\tContent Blobs:2.993152 MB  \n",
      "\tFile types:xls \n",
      "\n",
      "mRNA decay (version: 1)\n",
      "\tContent Blobs:4.043432 MB  \n",
      "\tFile types:xlsx \n",
      "\n",
      "\n"
     ]
    }
   ],
   "source": [
    "search.printResults()"
   ]
  },
  {
   "cell_type": "code",
   "execution_count": 9,
   "metadata": {},
   "outputs": [
    {
     "name": "stdout",
     "output_type": "stream",
     "text": [
      "cy3sabiork-SupplementaryFile-S2 (version: 1)\n",
      "\n",
      "Supplementary File S2: Kinetic entries for human galactose metabolism.\n",
      "SBML for query: http://sabiork.h-its.org/sabioRestWebServices/searchKineticLaws/sbml?q=Pathway:%22galactose%20metabolism%22%20AND%20Organism:%22homo%20sapiens%22\n",
      "Content Blobs:\n",
      "https://fairdomhub.org/data_files/1428/content_blobs/2661 - 506.891 KB\n",
      "File types: xml \n",
      "\n",
      "Loading relationships! Please wait...\n",
      "\n",
      "assayscreators.submitter.people.Relationships loaded.\n",
      "\n",
      "Creators: Matthias König \n",
      "Submitter: Matthias König \n",
      "People: Matthias König \n",
      "Projects: 46 \n",
      "Investigations\n",
      "Studies\n"
     ]
    }
   ],
   "source": [
    "from SeekAPI.Classes.File import File\n",
    "\n",
    "file = File(auth)\n",
    "\n",
    "file.read(search.getID('cy3sabiork-SupplementaryFile-S2'))\n",
    "\n",
    "file.printAttributes()\n",
    "file.printRelationships()"
   ]
  }
 ],
 "metadata": {
  "kernelspec": {
   "display_name": "Python 3",
   "language": "python",
   "name": "python3"
  },
  "language_info": {
   "codemirror_mode": {
    "name": "ipython",
    "version": 3
   },
   "file_extension": ".py",
   "mimetype": "text/x-python",
   "name": "python",
   "nbconvert_exporter": "python",
   "pygments_lexer": "ipython3",
   "version": "3.7.0"
  }
 },
 "nbformat": 4,
 "nbformat_minor": 2
}
