{
 "cells": [
  {
   "cell_type": "code",
   "execution_count": 1,
   "metadata": {},
   "outputs": [
    {
     "name": "stdout",
     "output_type": "stream",
     "text": [
      "Username: asd\n",
      "Password: ········\n"
     ]
    }
   ],
   "source": [
    "from SeekAPI.Interfaces.Auth.Authentication import Authentication\n",
    "\n",
    "auth = Authentication()"
   ]
  },
  {
   "cell_type": "code",
   "execution_count": 2,
   "metadata": {},
   "outputs": [],
   "source": [
    "from SeekAPI.Classes.Publication import Publication\n",
    "\n",
    "pb = Publication(auth)\n",
    "pb.read('339')"
   ]
  },
  {
   "cell_type": "code",
   "execution_count": 3,
   "metadata": {},
   "outputs": [
    {
     "name": "stdout",
     "output_type": "stream",
     "text": [
      "Oxidative Stickland reactions in an obligate aerobic organism - amino acid catabolism in the Crenarchaeon\n",
      "              Sulfolobus solfataricus\n"
     ]
    }
   ],
   "source": [
    "pb.printAttributes()"
   ]
  },
  {
   "cell_type": "code",
   "execution_count": 4,
   "metadata": {},
   "outputs": [
    {
     "name": "stdout",
     "output_type": "stream",
     "text": [
      "\n",
      "Loading relationships! Please wait...\n",
      "\n",
      "assayspeople.......data_filesprojects.modelsinvestigatons.studies.Relationships loaded.\n",
      "\n",
      "\n",
      "People: Dietmar Schomburg | Bettina Siebers | Phil Wright | Trong Khoa Pham | Helge Stark | Jacqueline Wolf | Andreas Albersmeier \n",
      "Projects: SulfoSys - Biotec \n",
      "Investigations: Amino acid degradation in Sulfolobus solfataricus P2 \n",
      "Studies: Comparison of Sulfolobus solfataricus P2 grown on caseinhydrolysate and D-glucose \n"
     ]
    }
   ],
   "source": [
    "pb.printRelationships()"
   ]
  }
 ],
 "metadata": {
  "kernelspec": {
   "display_name": "Python 3",
   "language": "python",
   "name": "python3"
  },
  "language_info": {
   "codemirror_mode": {
    "name": "ipython",
    "version": 3
   },
   "file_extension": ".py",
   "mimetype": "text/x-python",
   "name": "python",
   "nbconvert_exporter": "python",
   "pygments_lexer": "ipython3",
   "version": "3.6.5"
  }
 },
 "nbformat": 4,
 "nbformat_minor": 2
}
