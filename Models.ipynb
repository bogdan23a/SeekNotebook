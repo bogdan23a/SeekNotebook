{
 "cells": [
  {
   "cell_type": "code",
   "execution_count": 2,
   "metadata": {},
   "outputs": [
    {
     "name": "stdout",
     "output_type": "stream",
     "text": [
      "Username: asd\n",
      "Password: ········\n"
     ]
    }
   ],
   "source": [
    "from SeekAPI.Interfaces.Auth.Authentication import Authentication\n",
    "\n",
    "auth = Authentication()"
   ]
  },
  {
   "cell_type": "code",
   "execution_count": 3,
   "metadata": {},
   "outputs": [],
   "source": [
    "from SeekAPI.Classes.Model import Model\n",
    "\n",
    "mdl = Model(auth)\n",
    "mdl.read(\"110\")"
   ]
  },
  {
   "cell_type": "code",
   "execution_count": 4,
   "metadata": {},
   "outputs": [
    {
     "name": "stdout",
     "output_type": "stream",
     "text": [
      "PGK Kinetic Model (version: )\n",
      "Mathematical model for PGK kinetics, ADP, ATP, 3PG and BPG saturation.\n"
     ]
    }
   ],
   "source": [
    "mdl.printAttributes()"
   ]
  },
  {
   "cell_type": "code",
   "execution_count": 5,
   "metadata": {},
   "outputs": [
    {
     "name": "stdout",
     "output_type": "stream",
     "text": [
      "\n",
      "Loading relationships! Please wait...\n",
      "\n",
      "assays..creators.submitterpeople.projects.investigatons.studies.Relationships loaded.\n",
      "\n",
      "Creators: Jacky Snoep \n",
      "People: Jacky Snoep \n",
      "Projects: SulfoSys \n",
      "Investigations: Central Carbon Metabolism of Sulfolobus solfataricus \n",
      "Studies: Model Gluconeogenesis \n",
      "Assays: PGK Modelling | Reconstituted Gluconeogenesis System \n"
     ]
    }
   ],
   "source": [
    "mdl.printRelationships()"
   ]
  }
 ],
 "metadata": {
  "kernelspec": {
   "display_name": "Python 3",
   "language": "python",
   "name": "python3"
  },
  "language_info": {
   "codemirror_mode": {
    "name": "ipython",
    "version": 3
   },
   "file_extension": ".py",
   "mimetype": "text/x-python",
   "name": "python",
   "nbconvert_exporter": "python",
   "pygments_lexer": "ipython3",
   "version": "3.6.5"
  }
 },
 "nbformat": 4,
 "nbformat_minor": 2
}
